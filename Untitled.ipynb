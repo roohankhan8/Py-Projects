{
 "cells": [
  {
   "cell_type": "code",
   "execution_count": 6,
   "id": "9a23345f",
   "metadata": {},
   "outputs": [
    {
     "name": "stdout",
     "output_type": "stream",
     "text": [
      "Enter your name: verb\n"
     ]
    }
   ],
   "source": [
    "word = input('Enter your name: ')"
   ]
  },
  {
   "cell_type": "code",
   "execution_count": 2,
   "id": "8c46592b",
   "metadata": {},
   "outputs": [],
   "source": [
    "dictionary = {\n",
    "    'noun':'name of anything',\n",
    "    'pronoun':'words used in place of nouns',\n",
    "    'verb':'actions',\n",
    "    'adjective':'specialty'\n",
    "}"
   ]
  },
  {
   "cell_type": "code",
   "execution_count": 3,
   "id": "379499fb",
   "metadata": {},
   "outputs": [
    {
     "name": "stdout",
     "output_type": "stream",
     "text": [
      "name of anything\n"
     ]
    }
   ],
   "source": [
    "print(dictionary['noun'])"
   ]
  },
  {
   "cell_type": "code",
   "execution_count": 7,
   "id": "e28fa708",
   "metadata": {},
   "outputs": [
    {
     "name": "stdout",
     "output_type": "stream",
     "text": [
      "actions\n"
     ]
    }
   ],
   "source": [
    "print(dictionary[word])"
   ]
  },
  {
   "cell_type": "code",
   "execution_count": null,
   "id": "f003578f",
   "metadata": {},
   "outputs": [],
   "source": []
  }
 ],
 "metadata": {
  "kernelspec": {
   "display_name": "Python 3 (ipykernel)",
   "language": "python",
   "name": "python3"
  },
  "language_info": {
   "codemirror_mode": {
    "name": "ipython",
    "version": 3
   },
   "file_extension": ".py",
   "mimetype": "text/x-python",
   "name": "python",
   "nbconvert_exporter": "python",
   "pygments_lexer": "ipython3",
   "version": "3.10.7"
  }
 },
 "nbformat": 4,
 "nbformat_minor": 5
}
