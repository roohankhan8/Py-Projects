{
 "cells": [
  {
   "cell_type": "markdown",
   "id": "4800cd96",
   "metadata": {
    "papermill": {
     "duration": 0.00749,
     "end_time": "2024-08-03T22:29:29.734875",
     "exception": false,
     "start_time": "2024-08-03T22:29:29.727385",
     "status": "completed"
    },
    "tags": []
   },
   "source": [
    "## PRICE PREDICTOR FOR HOUSES IN PAKISTAN"
   ]
  },
  {
   "cell_type": "markdown",
   "id": "7dad2456",
   "metadata": {
    "papermill": {
     "duration": 0.005667,
     "end_time": "2024-08-03T22:29:29.747044",
     "exception": false,
     "start_time": "2024-08-03T22:29:29.741377",
     "status": "completed"
    },
    "tags": []
   },
   "source": [
    "IMPORT FUNCTIONS TO BE USED"
   ]
  },
  {
   "cell_type": "code",
   "execution_count": 1,
   "id": "1befdf73",
   "metadata": {
    "execution": {
     "iopub.execute_input": "2024-08-03T22:29:29.761286Z",
     "iopub.status.busy": "2024-08-03T22:29:29.760349Z",
     "iopub.status.idle": "2024-08-03T22:29:32.313756Z",
     "shell.execute_reply": "2024-08-03T22:29:32.312843Z"
    },
    "papermill": {
     "duration": 2.563433,
     "end_time": "2024-08-03T22:29:32.316404",
     "exception": false,
     "start_time": "2024-08-03T22:29:29.752971",
     "status": "completed"
    },
    "tags": []
   },
   "outputs": [],
   "source": [
    "from sklearn.ensemble import RandomForestRegressor\n",
    "from sklearn.metrics import mean_absolute_error\n",
    "from sklearn.preprocessing import OrdinalEncoder\n",
    "from sklearn.compose import ColumnTransformer\n",
    "from sklearn.pipeline import Pipeline\n",
    "from sklearn.impute import SimpleImputer\n",
    "from sklearn.preprocessing import OneHotEncoder\n",
    "from sklearn.model_selection import cross_val_score\n",
    "from sklearn.metrics import mean_absolute_error\n",
    "from xgboost import XGBRegressor\n",
    "\n",
    "import pandas as pd"
   ]
  },
  {
   "cell_type": "markdown",
   "id": "066c2955",
   "metadata": {
    "papermill": {
     "duration": 0.005631,
     "end_time": "2024-08-03T22:29:32.328378",
     "exception": false,
     "start_time": "2024-08-03T22:29:32.322747",
     "status": "completed"
    },
    "tags": []
   },
   "source": [
    "PREPROCESSING DATA"
   ]
  },
  {
   "cell_type": "code",
   "execution_count": 2,
   "id": "cfa38d13",
   "metadata": {
    "execution": {
     "iopub.execute_input": "2024-08-03T22:29:32.342032Z",
     "iopub.status.busy": "2024-08-03T22:29:32.341541Z",
     "iopub.status.idle": "2024-08-03T22:29:32.952497Z",
     "shell.execute_reply": "2024-08-03T22:29:32.951588Z"
    },
    "papermill": {
     "duration": 0.620679,
     "end_time": "2024-08-03T22:29:32.954994",
     "exception": false,
     "start_time": "2024-08-03T22:29:32.334315",
     "status": "completed"
    },
    "tags": []
   },
   "outputs": [],
   "source": [
    "from sklearn.model_selection import train_test_split\n",
    "\n",
    "# Path of the file to read\n",
    "X_train_path = '../input/d/roohankhan/housing-pakistan/train.csv'\n",
    "X_test_path = '../input/d/roohankhan/housing-pakistan/test.csv'\n",
    "\n",
    "# CSV to DF\n",
    "X_full = pd.read_csv(X_train_path, index_col='property_id')\n",
    "X_test_full = pd.read_csv(X_test_path, index_col='property_id')\n",
    "\n",
    "# Drop extra columns\n",
    "X_test_full.drop(['price'], axis=1, inplace=True)\n",
    "\n",
    "# Remove rows with missing target, separate target from predictors\n",
    "X_full.dropna(axis=0, subset=['price'], inplace=True)\n",
    "y = X_full.price\n",
    "X_full.drop(['price'], axis=1, inplace=True)\n",
    "\n",
    "# Break off validation set from training data\n",
    "X_train_full, X_valid_full, y_train, y_valid = train_test_split(X_full, y, train_size=0.8, test_size=0.2, random_state=0)"
   ]
  },
  {
   "cell_type": "markdown",
   "id": "63e457d2",
   "metadata": {
    "papermill": {
     "duration": 0.005454,
     "end_time": "2024-08-03T22:29:32.966402",
     "exception": false,
     "start_time": "2024-08-03T22:29:32.960948",
     "status": "completed"
    },
    "tags": []
   },
   "source": [
    "CHECK FOR MISSING VALUES"
   ]
  },
  {
   "cell_type": "code",
   "execution_count": 3,
   "id": "ca2fe326",
   "metadata": {
    "execution": {
     "iopub.execute_input": "2024-08-03T22:29:32.979493Z",
     "iopub.status.busy": "2024-08-03T22:29:32.979118Z",
     "iopub.status.idle": "2024-08-03T22:29:33.035019Z",
     "shell.execute_reply": "2024-08-03T22:29:33.034008Z"
    },
    "papermill": {
     "duration": 0.0651,
     "end_time": "2024-08-03T22:29:33.037294",
     "exception": false,
     "start_time": "2024-08-03T22:29:32.972194",
     "status": "completed"
    },
    "tags": []
   },
   "outputs": [
    {
     "data": {
      "text/plain": [
       "property_type    0\n",
       "location         0\n",
       "city             0\n",
       "province_name    0\n",
       "latitude         0\n",
       "longitude        0\n",
       "baths            0\n",
       "area             0\n",
       "bedrooms         0\n",
       "Area Type        0\n",
       "Area Size        0\n",
       "Area Category    0\n",
       "dtype: int64"
      ]
     },
     "execution_count": 3,
     "metadata": {},
     "output_type": "execute_result"
    }
   ],
   "source": [
    "X_full.isnull().sum()"
   ]
  },
  {
   "cell_type": "markdown",
   "id": "947c1b17",
   "metadata": {
    "papermill": {
     "duration": 0.005654,
     "end_time": "2024-08-03T22:29:33.049630",
     "exception": false,
     "start_time": "2024-08-03T22:29:33.043976",
     "status": "completed"
    },
    "tags": []
   },
   "source": [
    "FUNCTION FOR COMPARING DIFFERENT RESOURCES"
   ]
  },
  {
   "cell_type": "code",
   "execution_count": 4,
   "id": "745daba8",
   "metadata": {
    "execution": {
     "iopub.execute_input": "2024-08-03T22:29:33.063489Z",
     "iopub.status.busy": "2024-08-03T22:29:33.062580Z",
     "iopub.status.idle": "2024-08-03T22:29:33.068023Z",
     "shell.execute_reply": "2024-08-03T22:29:33.067044Z"
    },
    "papermill": {
     "duration": 0.014598,
     "end_time": "2024-08-03T22:29:33.070054",
     "exception": false,
     "start_time": "2024-08-03T22:29:33.055456",
     "status": "completed"
    },
    "tags": []
   },
   "outputs": [],
   "source": [
    "# function for comparing different approaches\n",
    "def score_dataset(X_train, X_valid, y_train, y_valid):\n",
    "    model = RandomForestRegressor(n_estimators=100, random_state=0)\n",
    "    model.fit(X_train, y_train)\n",
    "    preds = model.predict(X_valid)\n",
    "    return mean_absolute_error(y_valid, preds)"
   ]
  },
  {
   "cell_type": "markdown",
   "id": "6d0e7300",
   "metadata": {
    "papermill": {
     "duration": 0.005718,
     "end_time": "2024-08-03T22:29:33.081753",
     "exception": false,
     "start_time": "2024-08-03T22:29:33.076035",
     "status": "completed"
    },
    "tags": []
   },
   "source": [
    "DROPPING CATEGORICAL COLUMNS"
   ]
  },
  {
   "cell_type": "code",
   "execution_count": 5,
   "id": "ae2e97c2",
   "metadata": {
    "execution": {
     "iopub.execute_input": "2024-08-03T22:29:33.095050Z",
     "iopub.status.busy": "2024-08-03T22:29:33.094678Z",
     "iopub.status.idle": "2024-08-03T22:30:04.317951Z",
     "shell.execute_reply": "2024-08-03T22:30:04.316894Z"
    },
    "papermill": {
     "duration": 31.238719,
     "end_time": "2024-08-03T22:30:04.326368",
     "exception": false,
     "start_time": "2024-08-03T22:29:33.087649",
     "status": "completed"
    },
    "tags": []
   },
   "outputs": [
    {
     "name": "stdout",
     "output_type": "stream",
     "text": [
      "MAE from Approach 1 (Drop categorical variables):\n",
      "8633843.919376988\n"
     ]
    }
   ],
   "source": [
    "X_train = X_train_full.copy()\n",
    "X_valid = X_valid_full.copy()\n",
    "\n",
    "drop_X_train = X_train.select_dtypes(exclude=['object'])\n",
    "drop_X_valid = X_valid.select_dtypes(exclude=['object'])\n",
    "\n",
    "print(\"MAE from Approach 1 (Drop categorical variables):\")\n",
    "print(score_dataset(drop_X_train, drop_X_valid, y_train, y_valid))"
   ]
  },
  {
   "cell_type": "markdown",
   "id": "a574a31a",
   "metadata": {
    "papermill": {
     "duration": 0.005976,
     "end_time": "2024-08-03T22:30:04.339426",
     "exception": false,
     "start_time": "2024-08-03T22:30:04.333450",
     "status": "completed"
    },
    "tags": []
   },
   "source": [
    "ORDINAL ENCODING"
   ]
  },
  {
   "cell_type": "code",
   "execution_count": 6,
   "id": "928fdc71",
   "metadata": {
    "execution": {
     "iopub.execute_input": "2024-08-03T22:30:04.353287Z",
     "iopub.status.busy": "2024-08-03T22:30:04.352941Z",
     "iopub.status.idle": "2024-08-03T22:30:38.148158Z",
     "shell.execute_reply": "2024-08-03T22:30:38.147051Z"
    },
    "papermill": {
     "duration": 33.809919,
     "end_time": "2024-08-03T22:30:38.155467",
     "exception": false,
     "start_time": "2024-08-03T22:30:04.345548",
     "status": "completed"
    },
    "tags": []
   },
   "outputs": [
    {
     "name": "stdout",
     "output_type": "stream",
     "text": [
      "MAE from Approach 2 (Ordinal Encoding):\n",
      "7573727.600066238\n"
     ]
    }
   ],
   "source": [
    "# Categorical columns in the training data\n",
    "object_cols = [col for col in X_train.columns if X_train[col].dtype == \"object\"]\n",
    "\n",
    "# Columns that can be safely ordinal encoded\n",
    "good_label_cols = [col for col in object_cols if \n",
    "                   set(X_valid[col]).issubset(set(X_train[col]))]\n",
    "        \n",
    "# Problematic columns that will be dropped from the dataset\n",
    "bad_label_cols = list(set(object_cols)-set(good_label_cols))\n",
    "        \n",
    "# Drop categorical columns that will not be encoded\n",
    "label_X_train = X_train.drop(bad_label_cols, axis=1)\n",
    "label_X_valid = X_valid.drop(bad_label_cols, axis=1)\n",
    "\n",
    "#print('Categorical columns that will be ordinal encoded:', good_label_cols)\n",
    "#print('\\nCategorical columns that will be dropped from the dataset:', bad_label_cols)\n",
    "\n",
    "# Apply ordinal encoder \n",
    "ordinal_encoder=OrdinalEncoder()\n",
    "label_X_train[good_label_cols]=ordinal_encoder.fit_transform(X_train[good_label_cols])\n",
    "label_X_valid[good_label_cols]=ordinal_encoder.transform(X_valid[good_label_cols])\n",
    "\n",
    "print(\"MAE from Approach 2 (Ordinal Encoding):\") \n",
    "print(score_dataset(label_X_train, label_X_valid, y_train, y_valid))"
   ]
  },
  {
   "cell_type": "markdown",
   "id": "a97931dc",
   "metadata": {
    "papermill": {
     "duration": 0.005873,
     "end_time": "2024-08-03T22:30:38.167612",
     "exception": false,
     "start_time": "2024-08-03T22:30:38.161739",
     "status": "completed"
    },
    "tags": []
   },
   "source": [
    "ONE-HOT ENCODING"
   ]
  },
  {
   "cell_type": "code",
   "execution_count": 7,
   "id": "453aec00",
   "metadata": {
    "execution": {
     "iopub.execute_input": "2024-08-03T22:30:38.181677Z",
     "iopub.status.busy": "2024-08-03T22:30:38.181287Z",
     "iopub.status.idle": "2024-08-03T22:31:19.014765Z",
     "shell.execute_reply": "2024-08-03T22:31:19.013722Z"
    },
    "papermill": {
     "duration": 40.849635,
     "end_time": "2024-08-03T22:31:19.023271",
     "exception": false,
     "start_time": "2024-08-03T22:30:38.173636",
     "status": "completed"
    },
    "tags": []
   },
   "outputs": [
    {
     "name": "stdout",
     "output_type": "stream",
     "text": [
      "MAE from Approach 3 (One-Hot Encoding):\n",
      "7540192.860340426\n"
     ]
    }
   ],
   "source": [
    "# Columns that will be one-hot encoded\n",
    "low_cardinality_cols = [col for col in object_cols if X_train[col].nunique() < 10]\n",
    "\n",
    "# Columns that will be dropped from the dataset\n",
    "high_cardinality_cols = list(set(object_cols)-set(low_cardinality_cols))\n",
    "\n",
    "#print('Categorical columns that will be one-hot encoded:', low_cardinality_cols)\n",
    "#print('\\nCategorical columns that will be dropped from the dataset:', high_cardinality_cols)\n",
    "\n",
    "# Use as many lines of code as you need!\n",
    "OH_encoder = OneHotEncoder(handle_unknown='ignore', sparse_output=False)\n",
    "OH_cols_train = pd.DataFrame(OH_encoder.fit_transform(X_train[low_cardinality_cols]))\n",
    "OH_cols_valid = pd.DataFrame(OH_encoder.transform(X_valid[low_cardinality_cols]))\n",
    "\n",
    "OH_cols_train.index = X_train.index\n",
    "OH_cols_valid.index = X_valid.index\n",
    "\n",
    "num_X_train = X_train.drop(object_cols, axis=1)\n",
    "num_X_valid = X_valid.drop(object_cols, axis=1)\n",
    "\n",
    "OH_X_train = pd.concat([num_X_train, OH_cols_train], axis=1)\n",
    "OH_X_valid = pd.concat([num_X_valid, OH_cols_valid], axis=1)\n",
    "\n",
    "OH_X_train.columns = OH_X_train.columns.astype(str)\n",
    "OH_X_valid.columns = OH_X_valid.columns.astype(str)\n",
    "\n",
    "print(\"MAE from Approach 3 (One-Hot Encoding):\") \n",
    "print(score_dataset(OH_X_train, OH_X_valid, y_train, y_valid))"
   ]
  },
  {
   "cell_type": "markdown",
   "id": "83e4a7dd",
   "metadata": {
    "papermill": {
     "duration": 0.006008,
     "end_time": "2024-08-03T22:31:19.035678",
     "exception": false,
     "start_time": "2024-08-03T22:31:19.029670",
     "status": "completed"
    },
    "tags": []
   },
   "source": [
    "SEPERATING NUMERICAL AND CATEGORICAL COLUMNS"
   ]
  },
  {
   "cell_type": "code",
   "execution_count": 8,
   "id": "49bf7e98",
   "metadata": {
    "execution": {
     "iopub.execute_input": "2024-08-03T22:31:19.049834Z",
     "iopub.status.busy": "2024-08-03T22:31:19.049448Z",
     "iopub.status.idle": "2024-08-03T22:31:19.142708Z",
     "shell.execute_reply": "2024-08-03T22:31:19.141810Z"
    },
    "papermill": {
     "duration": 0.103328,
     "end_time": "2024-08-03T22:31:19.145246",
     "exception": false,
     "start_time": "2024-08-03T22:31:19.041918",
     "status": "completed"
    },
    "tags": []
   },
   "outputs": [],
   "source": [
    "# Select categorical columns with relatively low cardinality (convenient but arbitrary)\n",
    "categorical_cols = [cname for cname in X_train_full.columns if\n",
    "                    X_train_full[cname].nunique() < 10 and \n",
    "                    X_train_full[cname].dtype == \"object\"]\n",
    "\n",
    "# Select numerical columns\n",
    "numerical_cols = [cname for cname in X_train_full.columns if \n",
    "                X_train_full[cname].dtype in ['int64', 'float64']]\n",
    "\n",
    "# Keep selected columns only\n",
    "my_cols = categorical_cols + numerical_cols\n",
    "X_train = X_train_full[my_cols].copy()\n",
    "X_valid = X_valid_full[my_cols].copy()\n",
    "X_test = X_test_full[my_cols].copy()"
   ]
  },
  {
   "cell_type": "markdown",
   "id": "aae88626",
   "metadata": {
    "papermill": {
     "duration": 0.006154,
     "end_time": "2024-08-03T22:31:19.157946",
     "exception": false,
     "start_time": "2024-08-03T22:31:19.151792",
     "status": "completed"
    },
    "tags": []
   },
   "source": [
    "USING A PIPELINE"
   ]
  },
  {
   "cell_type": "code",
   "execution_count": 9,
   "id": "5a84880e",
   "metadata": {
    "execution": {
     "iopub.execute_input": "2024-08-03T22:31:19.172567Z",
     "iopub.status.busy": "2024-08-03T22:31:19.171800Z",
     "iopub.status.idle": "2024-08-03T22:31:59.874404Z",
     "shell.execute_reply": "2024-08-03T22:31:59.873364Z"
    },
    "papermill": {
     "duration": 40.718522,
     "end_time": "2024-08-03T22:31:59.882722",
     "exception": false,
     "start_time": "2024-08-03T22:31:19.164200",
     "status": "completed"
    },
    "tags": []
   },
   "outputs": [
    {
     "name": "stdout",
     "output_type": "stream",
     "text": [
      "MAE: 7540192.860340426\n"
     ]
    }
   ],
   "source": [
    "# Preprocessing for numerical data\n",
    "numerical_transformer = SimpleImputer(strategy='median')\n",
    "\n",
    "# Preprocessing for categorical data\n",
    "categorical_transformer = Pipeline(steps=[\n",
    "    ('imputer', SimpleImputer(strategy='most_frequent')),\n",
    "    ('onehot', OneHotEncoder(handle_unknown='ignore'))\n",
    "])\n",
    "\n",
    "# Bundle preprocessing for numerical and categorical data\n",
    "preprocessor = ColumnTransformer(\n",
    "    transformers=[\n",
    "        ('num', numerical_transformer, numerical_cols),\n",
    "        ('cat', categorical_transformer, categorical_cols)\n",
    "    ])\n",
    "\n",
    "# Define model\n",
    "model = RandomForestRegressor(n_estimators=100, random_state=0)\n",
    "\n",
    "# Bundle preprocessing and modeling code in a pipeline\n",
    "clf = Pipeline(steps=[('preprocessor', preprocessor),\n",
    "                      ('model', model)\n",
    "                     ])\n",
    "\n",
    "# Preprocessing of training data, fit model \n",
    "clf.fit(X_train, y_train)\n",
    "\n",
    "# Preprocessing of validation data, get predictions\n",
    "preds = clf.predict(X_valid)\n",
    "\n",
    "print('MAE:', mean_absolute_error(y_valid, preds))"
   ]
  },
  {
   "cell_type": "markdown",
   "id": "ad3a9999",
   "metadata": {
    "papermill": {
     "duration": 0.005923,
     "end_time": "2024-08-03T22:31:59.894968",
     "exception": false,
     "start_time": "2024-08-03T22:31:59.889045",
     "status": "completed"
    },
    "tags": []
   },
   "source": [
    "PREDICTIONS AND OUTPUT FILE "
   ]
  },
  {
   "cell_type": "code",
   "execution_count": 10,
   "id": "0368ce3c",
   "metadata": {
    "execution": {
     "iopub.execute_input": "2024-08-03T22:31:59.908943Z",
     "iopub.status.busy": "2024-08-03T22:31:59.908564Z",
     "iopub.status.idle": "2024-08-03T22:31:59.912813Z",
     "shell.execute_reply": "2024-08-03T22:31:59.911881Z"
    },
    "papermill": {
     "duration": 0.013534,
     "end_time": "2024-08-03T22:31:59.914711",
     "exception": false,
     "start_time": "2024-08-03T22:31:59.901177",
     "status": "completed"
    },
    "tags": []
   },
   "outputs": [],
   "source": [
    "#preds = clf.predict(X_test)\n",
    "#print(preds)\n",
    "\n",
    "# Save test predictions to file\n",
    "#output = pd.DataFrame({'Id': X_test.index,'predicted_price': preds})\n",
    "#output.to_csv('submission_4.csv', index=False)"
   ]
  },
  {
   "cell_type": "markdown",
   "id": "1cd0358f",
   "metadata": {
    "papermill": {
     "duration": 0.005956,
     "end_time": "2024-08-03T22:31:59.926892",
     "exception": false,
     "start_time": "2024-08-03T22:31:59.920936",
     "status": "completed"
    },
    "tags": []
   },
   "source": [
    "USING CROSS VALIDATION"
   ]
  },
  {
   "cell_type": "code",
   "execution_count": 11,
   "id": "83c1795b",
   "metadata": {
    "execution": {
     "iopub.execute_input": "2024-08-03T22:31:59.941063Z",
     "iopub.status.busy": "2024-08-03T22:31:59.940429Z",
     "iopub.status.idle": "2024-08-03T22:31:59.944863Z",
     "shell.execute_reply": "2024-08-03T22:31:59.943765Z"
    },
    "papermill": {
     "duration": 0.013966,
     "end_time": "2024-08-03T22:31:59.946973",
     "exception": false,
     "start_time": "2024-08-03T22:31:59.933007",
     "status": "completed"
    },
    "tags": []
   },
   "outputs": [],
   "source": [
    "# Multiply by -1 since sklearn calculates *negative* MAE\n",
    "#scores = -1 * cross_val_score(clf, X_full, y ,cv=5, scoring='neg_mean_absolute_error')\n",
    "\n",
    "#print(\"MAE scores: \", scores)\n",
    "#print(\"Average MAE score (across experiments):\")\n",
    "#print(scores.mean())"
   ]
  },
  {
   "cell_type": "markdown",
   "id": "866c9114",
   "metadata": {
    "papermill": {
     "duration": 0.006149,
     "end_time": "2024-08-03T22:31:59.959536",
     "exception": false,
     "start_time": "2024-08-03T22:31:59.953387",
     "status": "completed"
    },
    "tags": []
   },
   "source": [
    "PREPROCESSING DATA FOR XGBOOSTER"
   ]
  },
  {
   "cell_type": "code",
   "execution_count": 12,
   "id": "95f3ac7c",
   "metadata": {
    "execution": {
     "iopub.execute_input": "2024-08-03T22:31:59.973569Z",
     "iopub.status.busy": "2024-08-03T22:31:59.973232Z",
     "iopub.status.idle": "2024-08-03T22:32:00.063538Z",
     "shell.execute_reply": "2024-08-03T22:32:00.062680Z"
    },
    "papermill": {
     "duration": 0.100138,
     "end_time": "2024-08-03T22:32:00.065969",
     "exception": false,
     "start_time": "2024-08-03T22:31:59.965831",
     "status": "completed"
    },
    "tags": []
   },
   "outputs": [],
   "source": [
    "# One-hot encode the data (to shorten the code, we use pandas)\n",
    "X_train_XG = pd.get_dummies(X_train)\n",
    "X_valid_XG = pd.get_dummies(X_valid)\n",
    "X_test_XG = pd.get_dummies(X_test)\n",
    "X_train_XG, X_valid_XG = X_train_XG.align(X_valid_XG, join='left', axis=1)\n",
    "X_train_XG, X_test_XG = X_train_XG.align(X_test_XG, join='left', axis=1)"
   ]
  },
  {
   "cell_type": "markdown",
   "id": "4e9a281d",
   "metadata": {
    "papermill": {
     "duration": 0.006197,
     "end_time": "2024-08-03T22:32:00.078806",
     "exception": false,
     "start_time": "2024-08-03T22:32:00.072609",
     "status": "completed"
    },
    "tags": []
   },
   "source": [
    "WITHOUT PARAMETER TUNING"
   ]
  },
  {
   "cell_type": "code",
   "execution_count": 13,
   "id": "2e2f2fba",
   "metadata": {
    "execution": {
     "iopub.execute_input": "2024-08-03T22:32:00.093430Z",
     "iopub.status.busy": "2024-08-03T22:32:00.092576Z",
     "iopub.status.idle": "2024-08-03T22:32:01.161460Z",
     "shell.execute_reply": "2024-08-03T22:32:01.160700Z"
    },
    "papermill": {
     "duration": 1.078441,
     "end_time": "2024-08-03T22:32:01.163522",
     "exception": false,
     "start_time": "2024-08-03T22:32:00.085081",
     "status": "completed"
    },
    "tags": []
   },
   "outputs": [
    {
     "name": "stdout",
     "output_type": "stream",
     "text": [
      "Mean Absolute Error: 8749547.450715035\n"
     ]
    }
   ],
   "source": [
    "# Define the model\n",
    "my_model_1 = XGBRegressor(random_state=0)\n",
    "\n",
    "# Fit the model\n",
    "my_model_1.fit(X_train_XG,y_train)\n",
    "\n",
    "# Get predictions\n",
    "predictions_1 = my_model_1.predict(X_valid_XG)\n",
    "\n",
    "# Calculate MAE\n",
    "mae_1 = mean_absolute_error(y_valid, predictions_1)\n",
    "\n",
    "# Uncomment to print MAE\n",
    "print(\"Mean Absolute Error:\" , mae_1)"
   ]
  },
  {
   "cell_type": "markdown",
   "id": "0f3c1ac5",
   "metadata": {
    "papermill": {
     "duration": 0.006305,
     "end_time": "2024-08-03T22:32:01.176453",
     "exception": false,
     "start_time": "2024-08-03T22:32:01.170148",
     "status": "completed"
    },
    "tags": []
   },
   "source": [
    "WITH PARAMETER TUNING"
   ]
  },
  {
   "cell_type": "code",
   "execution_count": 14,
   "id": "a62c9f40",
   "metadata": {
    "execution": {
     "iopub.execute_input": "2024-08-03T22:32:01.191620Z",
     "iopub.status.busy": "2024-08-03T22:32:01.190749Z",
     "iopub.status.idle": "2024-08-03T22:32:07.341100Z",
     "shell.execute_reply": "2024-08-03T22:32:07.340350Z"
    },
    "papermill": {
     "duration": 6.160412,
     "end_time": "2024-08-03T22:32:07.343387",
     "exception": false,
     "start_time": "2024-08-03T22:32:01.182975",
     "status": "completed"
    },
    "tags": []
   },
   "outputs": [
    {
     "name": "stdout",
     "output_type": "stream",
     "text": [
      "Mean Absolute Error: 8818791.632414185\n"
     ]
    }
   ],
   "source": [
    "# Define the model\n",
    "my_model_2 = XGBRegressor(n_estimators=500, n_jobs=4, early_stopping_rounds=5, learning_rate=0.05)\n",
    "\n",
    "# Fit the model\n",
    "my_model_2.fit(X_train_XG, y_train, eval_set=[(X_valid_XG, y_valid)], verbose=False)\n",
    "\n",
    "# Get predictions\n",
    "predictions_2 = my_model_2.predict(X_valid_XG)\n",
    "\n",
    "# Calculate MAE\n",
    "mae_2 = mean_absolute_error(y_valid, predictions_2)\n",
    "\n",
    "# Uncomment to print MAE\n",
    "print(\"Mean Absolute Error:\" , mae_2)"
   ]
  }
 ],
 "metadata": {
  "kaggle": {
   "accelerator": "none",
   "dataSources": [
    {
     "datasetId": 5491146,
     "sourceId": 9098764,
     "sourceType": "datasetVersion"
    }
   ],
   "dockerImageVersionId": 30746,
   "isGpuEnabled": false,
   "isInternetEnabled": true,
   "language": "python",
   "sourceType": "notebook"
  },
  "kernelspec": {
   "display_name": "Python 3",
   "language": "python",
   "name": "python3"
  },
  "language_info": {
   "codemirror_mode": {
    "name": "ipython",
    "version": 3
   },
   "file_extension": ".py",
   "mimetype": "text/x-python",
   "name": "python",
   "nbconvert_exporter": "python",
   "pygments_lexer": "ipython3",
   "version": "3.10.13"
  },
  "papermill": {
   "default_parameters": {},
   "duration": 160.979133,
   "end_time": "2024-08-03T22:32:07.970454",
   "environment_variables": {},
   "exception": null,
   "input_path": "__notebook__.ipynb",
   "output_path": "__notebook__.ipynb",
   "parameters": {},
   "start_time": "2024-08-03T22:29:26.991321",
   "version": "2.5.0"
  }
 },
 "nbformat": 4,
 "nbformat_minor": 5
}
