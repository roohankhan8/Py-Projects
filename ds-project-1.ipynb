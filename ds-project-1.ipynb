{
 "cells": [
  {
   "cell_type": "code",
   "execution_count": 1,
   "id": "9832bf85",
   "metadata": {
    "_cell_guid": "b1076dfc-b9ad-4769-8c92-a6c4dae69d19",
    "_kg_hide-input": true,
    "_uuid": "8f2839f25d086af736a60e9eeb907d3b93b6e0e5",
    "execution": {
     "iopub.execute_input": "2024-08-03T22:15:36.637953Z",
     "iopub.status.busy": "2024-08-03T22:15:36.637508Z",
     "iopub.status.idle": "2024-08-03T22:15:37.482880Z",
     "shell.execute_reply": "2024-08-03T22:15:37.481465Z"
    },
    "papermill": {
     "duration": 0.856527,
     "end_time": "2024-08-03T22:15:37.485362",
     "exception": false,
     "start_time": "2024-08-03T22:15:36.628835",
     "status": "completed"
    },
    "tags": []
   },
   "outputs": [
    {
     "name": "stdout",
     "output_type": "stream",
     "text": [
      "/kaggle/input/d/roohankhan/housing-pakistan/train.csv\n",
      "/kaggle/input/d/roohankhan/housing-pakistan/test.csv\n"
     ]
    }
   ],
   "source": [
    "# This Python 3 environment comes with many helpful analytics libraries installed\n",
    "# It is defined by the kaggle/python Docker image: https://github.com/kaggle/docker-python\n",
    "# For example, here's several helpful packages to load\n",
    "\n",
    "import numpy as np # linear algebra\n",
    "import pandas as pd # data processing, CSV file I/O (e.g. pd.read_csv)\n",
    "\n",
    "# Input data files are available in the read-only \"../input/\" directory\n",
    "# For example, running this (by clicking run or pressing Shift+Enter) will list all files under the input directory\n",
    "\n",
    "import os\n",
    "for dirname, _, filenames in os.walk('/kaggle/input'):\n",
    "    for filename in filenames:\n",
    "        print(os.path.join(dirname, filename))\n",
    "\n",
    "# You can write up to 20GB to the current directory (/kaggle/working/) that gets preserved as output when you create a version using \"Save & Run All\" \n",
    "# You can also write temporary files to /kaggle/temp/, but they won't be saved outside of the current session"
   ]
  },
  {
   "cell_type": "markdown",
   "id": "6498215d",
   "metadata": {
    "papermill": {
     "duration": 0.006312,
     "end_time": "2024-08-03T22:15:37.498343",
     "exception": false,
     "start_time": "2024-08-03T22:15:37.492031",
     "status": "completed"
    },
    "tags": []
   },
   "source": [
    "## PRICE PREDICTOR FOR HOUSES IN PAKISTAN"
   ]
  },
  {
   "cell_type": "markdown",
   "id": "793b4e5c",
   "metadata": {
    "papermill": {
     "duration": 0.006286,
     "end_time": "2024-08-03T22:15:37.511052",
     "exception": false,
     "start_time": "2024-08-03T22:15:37.504766",
     "status": "completed"
    },
    "tags": []
   },
   "source": [
    "PREPROCESSING DATA"
   ]
  },
  {
   "cell_type": "code",
   "execution_count": 2,
   "id": "efe5bd8e",
   "metadata": {
    "execution": {
     "iopub.execute_input": "2024-08-03T22:15:37.527110Z",
     "iopub.status.busy": "2024-08-03T22:15:37.525757Z",
     "iopub.status.idle": "2024-08-03T22:15:39.441352Z",
     "shell.execute_reply": "2024-08-03T22:15:39.440208Z"
    },
    "papermill": {
     "duration": 1.926391,
     "end_time": "2024-08-03T22:15:39.443908",
     "exception": false,
     "start_time": "2024-08-03T22:15:37.517517",
     "status": "completed"
    },
    "tags": []
   },
   "outputs": [],
   "source": [
    "from sklearn.model_selection import train_test_split\n",
    "\n",
    "# Path of the file to read\n",
    "X_train_path = '../input/d/roohankhan/housing-pakistan/train.csv'\n",
    "X_test_path = '../input/d/roohankhan/housing-pakistan/test.csv'\n",
    "\n",
    "# CSV to DF\n",
    "X_full = pd.read_csv(X_train_path, index_col='property_id')\n",
    "X_test_full = pd.read_csv(X_test_path, index_col='property_id')\n",
    "\n",
    "# Drop extra columns\n",
    "X_test_full.drop(['price'], axis=1, inplace=True)\n",
    "\n",
    "# Remove rows with missing target, separate target from predictors\n",
    "X_full.dropna(axis=0, subset=['price'], inplace=True)\n",
    "y = X_full.price\n",
    "X_full.drop(['price'], axis=1, inplace=True)\n",
    "\n",
    "# Break off validation set from training data\n",
    "X_train_full, X_valid_full, y_train, y_valid = train_test_split(X_full, y, train_size=0.8, test_size=0.2, random_state=0)"
   ]
  },
  {
   "cell_type": "markdown",
   "id": "faa12d30",
   "metadata": {
    "papermill": {
     "duration": 0.006394,
     "end_time": "2024-08-03T22:15:39.456970",
     "exception": false,
     "start_time": "2024-08-03T22:15:39.450576",
     "status": "completed"
    },
    "tags": []
   },
   "source": [
    "CHECK FOR MISSING VALUES"
   ]
  },
  {
   "cell_type": "code",
   "execution_count": 3,
   "id": "1bdae243",
   "metadata": {
    "execution": {
     "iopub.execute_input": "2024-08-03T22:15:39.472339Z",
     "iopub.status.busy": "2024-08-03T22:15:39.471356Z",
     "iopub.status.idle": "2024-08-03T22:15:39.527604Z",
     "shell.execute_reply": "2024-08-03T22:15:39.526371Z"
    },
    "papermill": {
     "duration": 0.066561,
     "end_time": "2024-08-03T22:15:39.530079",
     "exception": false,
     "start_time": "2024-08-03T22:15:39.463518",
     "status": "completed"
    },
    "tags": []
   },
   "outputs": [
    {
     "data": {
      "text/plain": [
       "property_type    0\n",
       "location         0\n",
       "city             0\n",
       "province_name    0\n",
       "latitude         0\n",
       "longitude        0\n",
       "baths            0\n",
       "area             0\n",
       "bedrooms         0\n",
       "Area Type        0\n",
       "Area Size        0\n",
       "Area Category    0\n",
       "dtype: int64"
      ]
     },
     "execution_count": 3,
     "metadata": {},
     "output_type": "execute_result"
    }
   ],
   "source": [
    "X_full.isnull().sum()"
   ]
  },
  {
   "cell_type": "markdown",
   "id": "1c5c8ac9",
   "metadata": {
    "papermill": {
     "duration": 0.006564,
     "end_time": "2024-08-03T22:15:39.543468",
     "exception": false,
     "start_time": "2024-08-03T22:15:39.536904",
     "status": "completed"
    },
    "tags": []
   },
   "source": [
    "IMPORT FUNCTIONS TO BE USED"
   ]
  },
  {
   "cell_type": "code",
   "execution_count": 4,
   "id": "2478b2d2",
   "metadata": {
    "execution": {
     "iopub.execute_input": "2024-08-03T22:15:39.558673Z",
     "iopub.status.busy": "2024-08-03T22:15:39.558144Z",
     "iopub.status.idle": "2024-08-03T22:15:40.091066Z",
     "shell.execute_reply": "2024-08-03T22:15:40.089361Z"
    },
    "papermill": {
     "duration": 0.54355,
     "end_time": "2024-08-03T22:15:40.093724",
     "exception": false,
     "start_time": "2024-08-03T22:15:39.550174",
     "status": "completed"
    },
    "tags": []
   },
   "outputs": [],
   "source": [
    "from sklearn.ensemble import RandomForestRegressor\n",
    "from sklearn.metrics import mean_absolute_error\n",
    "from sklearn.preprocessing import OrdinalEncoder\n",
    "from sklearn.compose import ColumnTransformer\n",
    "from sklearn.pipeline import Pipeline\n",
    "from sklearn.impute import SimpleImputer\n",
    "from sklearn.preprocessing import OneHotEncoder\n",
    "from sklearn.model_selection import cross_val_score\n",
    "from sklearn.metrics import mean_absolute_error\n",
    "from xgboost import XGBRegressor"
   ]
  },
  {
   "cell_type": "markdown",
   "id": "aa6d64f0",
   "metadata": {
    "papermill": {
     "duration": 0.007163,
     "end_time": "2024-08-03T22:15:40.107809",
     "exception": false,
     "start_time": "2024-08-03T22:15:40.100646",
     "status": "completed"
    },
    "tags": []
   },
   "source": [
    "FUNCTION FOR COMPARING DIFFERENT RESOURCES"
   ]
  },
  {
   "cell_type": "code",
   "execution_count": 5,
   "id": "a8d9a70b",
   "metadata": {
    "execution": {
     "iopub.execute_input": "2024-08-03T22:15:40.122967Z",
     "iopub.status.busy": "2024-08-03T22:15:40.122580Z",
     "iopub.status.idle": "2024-08-03T22:15:40.130359Z",
     "shell.execute_reply": "2024-08-03T22:15:40.129225Z"
    },
    "papermill": {
     "duration": 0.018236,
     "end_time": "2024-08-03T22:15:40.132708",
     "exception": false,
     "start_time": "2024-08-03T22:15:40.114472",
     "status": "completed"
    },
    "tags": []
   },
   "outputs": [],
   "source": [
    "# function for comparing different approaches\n",
    "def score_dataset(X_train, X_valid, y_train, y_valid):\n",
    "    model = RandomForestRegressor(n_estimators=100, random_state=0)\n",
    "    model.fit(X_train, y_train)\n",
    "    preds = model.predict(X_valid)\n",
    "    return mean_absolute_error(y_valid, preds)"
   ]
  },
  {
   "cell_type": "markdown",
   "id": "9d120988",
   "metadata": {
    "papermill": {
     "duration": 0.006467,
     "end_time": "2024-08-03T22:15:40.145839",
     "exception": false,
     "start_time": "2024-08-03T22:15:40.139372",
     "status": "completed"
    },
    "tags": []
   },
   "source": [
    "DROPPING CATEGORICAL COLUMNS"
   ]
  },
  {
   "cell_type": "code",
   "execution_count": 6,
   "id": "7313e9d9",
   "metadata": {
    "execution": {
     "iopub.execute_input": "2024-08-03T22:15:40.161289Z",
     "iopub.status.busy": "2024-08-03T22:15:40.160903Z",
     "iopub.status.idle": "2024-08-03T22:16:12.377870Z",
     "shell.execute_reply": "2024-08-03T22:16:12.376740Z"
    },
    "papermill": {
     "duration": 32.233596,
     "end_time": "2024-08-03T22:16:12.386396",
     "exception": false,
     "start_time": "2024-08-03T22:15:40.152800",
     "status": "completed"
    },
    "tags": []
   },
   "outputs": [
    {
     "name": "stdout",
     "output_type": "stream",
     "text": [
      "MAE from Approach 1 (Drop categorical variables):\n",
      "8633843.919376988\n"
     ]
    }
   ],
   "source": [
    "X_train = X_train_full.copy()\n",
    "X_valid = X_valid_full.copy()\n",
    "\n",
    "drop_X_train = X_train.select_dtypes(exclude=['object'])\n",
    "drop_X_valid = X_valid.select_dtypes(exclude=['object'])\n",
    "\n",
    "print(\"MAE from Approach 1 (Drop categorical variables):\")\n",
    "print(score_dataset(drop_X_train, drop_X_valid, y_train, y_valid))"
   ]
  },
  {
   "cell_type": "markdown",
   "id": "69d8afb6",
   "metadata": {
    "papermill": {
     "duration": 0.006334,
     "end_time": "2024-08-03T22:16:12.399397",
     "exception": false,
     "start_time": "2024-08-03T22:16:12.393063",
     "status": "completed"
    },
    "tags": []
   },
   "source": [
    "ORDINAL ENCODING"
   ]
  },
  {
   "cell_type": "code",
   "execution_count": 7,
   "id": "350d0586",
   "metadata": {
    "execution": {
     "iopub.execute_input": "2024-08-03T22:16:12.415193Z",
     "iopub.status.busy": "2024-08-03T22:16:12.414349Z",
     "iopub.status.idle": "2024-08-03T22:16:47.465387Z",
     "shell.execute_reply": "2024-08-03T22:16:47.464335Z"
    },
    "papermill": {
     "duration": 35.067984,
     "end_time": "2024-08-03T22:16:47.474103",
     "exception": false,
     "start_time": "2024-08-03T22:16:12.406119",
     "status": "completed"
    },
    "tags": []
   },
   "outputs": [
    {
     "name": "stdout",
     "output_type": "stream",
     "text": [
      "MAE from Approach 2 (Ordinal Encoding):\n",
      "7573727.600066238\n"
     ]
    }
   ],
   "source": [
    "# Categorical columns in the training data\n",
    "object_cols = [col for col in X_train.columns if X_train[col].dtype == \"object\"]\n",
    "\n",
    "# Columns that can be safely ordinal encoded\n",
    "good_label_cols = [col for col in object_cols if \n",
    "                   set(X_valid[col]).issubset(set(X_train[col]))]\n",
    "        \n",
    "# Problematic columns that will be dropped from the dataset\n",
    "bad_label_cols = list(set(object_cols)-set(good_label_cols))\n",
    "        \n",
    "# Drop categorical columns that will not be encoded\n",
    "label_X_train = X_train.drop(bad_label_cols, axis=1)\n",
    "label_X_valid = X_valid.drop(bad_label_cols, axis=1)\n",
    "\n",
    "#print('Categorical columns that will be ordinal encoded:', good_label_cols)\n",
    "#print('\\nCategorical columns that will be dropped from the dataset:', bad_label_cols)\n",
    "\n",
    "# Apply ordinal encoder \n",
    "ordinal_encoder=OrdinalEncoder()\n",
    "label_X_train[good_label_cols]=ordinal_encoder.fit_transform(X_train[good_label_cols])\n",
    "label_X_valid[good_label_cols]=ordinal_encoder.transform(X_valid[good_label_cols])\n",
    "\n",
    "print(\"MAE from Approach 2 (Ordinal Encoding):\") \n",
    "print(score_dataset(label_X_train, label_X_valid, y_train, y_valid))"
   ]
  },
  {
   "cell_type": "markdown",
   "id": "2efd2f02",
   "metadata": {
    "papermill": {
     "duration": 0.0067,
     "end_time": "2024-08-03T22:16:47.487770",
     "exception": false,
     "start_time": "2024-08-03T22:16:47.481070",
     "status": "completed"
    },
    "tags": []
   },
   "source": [
    "ONE-HOT ENCODING"
   ]
  },
  {
   "cell_type": "code",
   "execution_count": 8,
   "id": "3df964f7",
   "metadata": {
    "execution": {
     "iopub.execute_input": "2024-08-03T22:16:47.503249Z",
     "iopub.status.busy": "2024-08-03T22:16:47.502887Z",
     "iopub.status.idle": "2024-08-03T22:17:30.394136Z",
     "shell.execute_reply": "2024-08-03T22:17:30.392950Z"
    },
    "papermill": {
     "duration": 42.909252,
     "end_time": "2024-08-03T22:17:30.403852",
     "exception": false,
     "start_time": "2024-08-03T22:16:47.494600",
     "status": "completed"
    },
    "tags": []
   },
   "outputs": [
    {
     "name": "stdout",
     "output_type": "stream",
     "text": [
      "MAE from Approach 3 (One-Hot Encoding):\n",
      "7540192.860340426\n"
     ]
    }
   ],
   "source": [
    "# Columns that will be one-hot encoded\n",
    "low_cardinality_cols = [col for col in object_cols if X_train[col].nunique() < 10]\n",
    "\n",
    "# Columns that will be dropped from the dataset\n",
    "high_cardinality_cols = list(set(object_cols)-set(low_cardinality_cols))\n",
    "\n",
    "#print('Categorical columns that will be one-hot encoded:', low_cardinality_cols)\n",
    "#print('\\nCategorical columns that will be dropped from the dataset:', high_cardinality_cols)\n",
    "\n",
    "# Use as many lines of code as you need!\n",
    "OH_encoder = OneHotEncoder(handle_unknown='ignore', sparse_output=False)\n",
    "OH_cols_train = pd.DataFrame(OH_encoder.fit_transform(X_train[low_cardinality_cols]))\n",
    "OH_cols_valid = pd.DataFrame(OH_encoder.transform(X_valid[low_cardinality_cols]))\n",
    "\n",
    "OH_cols_train.index = X_train.index\n",
    "OH_cols_valid.index = X_valid.index\n",
    "\n",
    "num_X_train = X_train.drop(object_cols, axis=1)\n",
    "num_X_valid = X_valid.drop(object_cols, axis=1)\n",
    "\n",
    "OH_X_train = pd.concat([num_X_train, OH_cols_train], axis=1)\n",
    "OH_X_valid = pd.concat([num_X_valid, OH_cols_valid], axis=1)\n",
    "\n",
    "OH_X_train.columns = OH_X_train.columns.astype(str)\n",
    "OH_X_valid.columns = OH_X_valid.columns.astype(str)\n",
    "\n",
    "print(\"MAE from Approach 3 (One-Hot Encoding):\") \n",
    "print(score_dataset(OH_X_train, OH_X_valid, y_train, y_valid))"
   ]
  },
  {
   "cell_type": "markdown",
   "id": "3b1b10a8",
   "metadata": {
    "papermill": {
     "duration": 0.006777,
     "end_time": "2024-08-03T22:17:30.417647",
     "exception": false,
     "start_time": "2024-08-03T22:17:30.410870",
     "status": "completed"
    },
    "tags": []
   },
   "source": [
    "SEPERATING NUMERICAL AND CATEGORICAL COLUMNS"
   ]
  },
  {
   "cell_type": "code",
   "execution_count": 9,
   "id": "9e32d4c3",
   "metadata": {
    "execution": {
     "iopub.execute_input": "2024-08-03T22:17:30.433640Z",
     "iopub.status.busy": "2024-08-03T22:17:30.433218Z",
     "iopub.status.idle": "2024-08-03T22:17:30.531804Z",
     "shell.execute_reply": "2024-08-03T22:17:30.530495Z"
    },
    "papermill": {
     "duration": 0.109749,
     "end_time": "2024-08-03T22:17:30.534446",
     "exception": false,
     "start_time": "2024-08-03T22:17:30.424697",
     "status": "completed"
    },
    "tags": []
   },
   "outputs": [],
   "source": [
    "# Select categorical columns with relatively low cardinality (convenient but arbitrary)\n",
    "categorical_cols = [cname for cname in X_train_full.columns if\n",
    "                    X_train_full[cname].nunique() < 10 and \n",
    "                    X_train_full[cname].dtype == \"object\"]\n",
    "\n",
    "# Select numerical columns\n",
    "numerical_cols = [cname for cname in X_train_full.columns if \n",
    "                X_train_full[cname].dtype in ['int64', 'float64']]\n",
    "\n",
    "# Keep selected columns only\n",
    "my_cols = categorical_cols + numerical_cols\n",
    "X_train = X_train_full[my_cols].copy()\n",
    "X_valid = X_valid_full[my_cols].copy()\n",
    "X_test = X_test_full[my_cols].copy()"
   ]
  },
  {
   "cell_type": "markdown",
   "id": "01778a53",
   "metadata": {
    "papermill": {
     "duration": 0.006713,
     "end_time": "2024-08-03T22:17:30.548295",
     "exception": false,
     "start_time": "2024-08-03T22:17:30.541582",
     "status": "completed"
    },
    "tags": []
   },
   "source": [
    "USING A PIPELINE"
   ]
  },
  {
   "cell_type": "code",
   "execution_count": 10,
   "id": "2f5e80bf",
   "metadata": {
    "execution": {
     "iopub.execute_input": "2024-08-03T22:17:30.564036Z",
     "iopub.status.busy": "2024-08-03T22:17:30.563665Z",
     "iopub.status.idle": "2024-08-03T22:18:14.167517Z",
     "shell.execute_reply": "2024-08-03T22:18:14.166169Z"
    },
    "papermill": {
     "duration": 43.621058,
     "end_time": "2024-08-03T22:18:14.176264",
     "exception": false,
     "start_time": "2024-08-03T22:17:30.555206",
     "status": "completed"
    },
    "tags": []
   },
   "outputs": [
    {
     "name": "stdout",
     "output_type": "stream",
     "text": [
      "MAE: 7540192.860340426\n"
     ]
    }
   ],
   "source": [
    "# Preprocessing for numerical data\n",
    "numerical_transformer = SimpleImputer(strategy='median')\n",
    "\n",
    "# Preprocessing for categorical data\n",
    "categorical_transformer = Pipeline(steps=[\n",
    "    ('imputer', SimpleImputer(strategy='most_frequent')),\n",
    "    ('onehot', OneHotEncoder(handle_unknown='ignore'))\n",
    "])\n",
    "\n",
    "# Bundle preprocessing for numerical and categorical data\n",
    "preprocessor = ColumnTransformer(\n",
    "    transformers=[\n",
    "        ('num', numerical_transformer, numerical_cols),\n",
    "        ('cat', categorical_transformer, categorical_cols)\n",
    "    ])\n",
    "\n",
    "# Define model\n",
    "model = RandomForestRegressor(n_estimators=100, random_state=0)\n",
    "\n",
    "# Bundle preprocessing and modeling code in a pipeline\n",
    "clf = Pipeline(steps=[('preprocessor', preprocessor),\n",
    "                      ('model', model)\n",
    "                     ])\n",
    "\n",
    "# Preprocessing of training data, fit model \n",
    "clf.fit(X_train, y_train)\n",
    "\n",
    "# Preprocessing of validation data, get predictions\n",
    "preds = clf.predict(X_valid)\n",
    "\n",
    "print('MAE:', mean_absolute_error(y_valid, preds))"
   ]
  },
  {
   "cell_type": "code",
   "execution_count": 11,
   "id": "f4e66205",
   "metadata": {
    "execution": {
     "iopub.execute_input": "2024-08-03T22:18:14.192089Z",
     "iopub.status.busy": "2024-08-03T22:18:14.191703Z",
     "iopub.status.idle": "2024-08-03T22:18:14.196819Z",
     "shell.execute_reply": "2024-08-03T22:18:14.195631Z"
    },
    "papermill": {
     "duration": 0.015826,
     "end_time": "2024-08-03T22:18:14.199143",
     "exception": false,
     "start_time": "2024-08-03T22:18:14.183317",
     "status": "completed"
    },
    "tags": []
   },
   "outputs": [],
   "source": [
    "#preds = clf.predict(X_test)\n",
    "#print(preds)\n",
    "\n",
    "# Save test predictions to file\n",
    "#output = pd.DataFrame({'Id': X_test.index,'predicted_price': preds})\n",
    "#output.to_csv('submission_4.csv', index=False)"
   ]
  },
  {
   "cell_type": "markdown",
   "id": "25e0e441",
   "metadata": {
    "papermill": {
     "duration": 0.006864,
     "end_time": "2024-08-03T22:18:14.213341",
     "exception": false,
     "start_time": "2024-08-03T22:18:14.206477",
     "status": "completed"
    },
    "tags": []
   },
   "source": [
    "USING CROSS VALIDATION"
   ]
  },
  {
   "cell_type": "code",
   "execution_count": 12,
   "id": "2bb4bffa",
   "metadata": {
    "execution": {
     "iopub.execute_input": "2024-08-03T22:18:14.229559Z",
     "iopub.status.busy": "2024-08-03T22:18:14.229127Z",
     "iopub.status.idle": "2024-08-03T22:18:14.234065Z",
     "shell.execute_reply": "2024-08-03T22:18:14.232927Z"
    },
    "papermill": {
     "duration": 0.015819,
     "end_time": "2024-08-03T22:18:14.236387",
     "exception": false,
     "start_time": "2024-08-03T22:18:14.220568",
     "status": "completed"
    },
    "tags": []
   },
   "outputs": [],
   "source": [
    "# Multiply by -1 since sklearn calculates *negative* MAE\n",
    "#scores = -1 * cross_val_score(clf, X_full, y ,cv=5, scoring='neg_mean_absolute_error')\n",
    "\n",
    "#print(\"MAE scores: \", scores)\n",
    "#print(\"Average MAE score (across experiments):\")\n",
    "#print(scores.mean())"
   ]
  },
  {
   "cell_type": "markdown",
   "id": "4c318036",
   "metadata": {
    "papermill": {
     "duration": 0.006838,
     "end_time": "2024-08-03T22:18:14.250567",
     "exception": false,
     "start_time": "2024-08-03T22:18:14.243729",
     "status": "completed"
    },
    "tags": []
   },
   "source": [
    "PREPROCESSING DATA FOR XGBOOSTER"
   ]
  },
  {
   "cell_type": "code",
   "execution_count": 13,
   "id": "59c0c163",
   "metadata": {
    "execution": {
     "iopub.execute_input": "2024-08-03T22:18:14.266683Z",
     "iopub.status.busy": "2024-08-03T22:18:14.266195Z",
     "iopub.status.idle": "2024-08-03T22:18:14.357073Z",
     "shell.execute_reply": "2024-08-03T22:18:14.355826Z"
    },
    "papermill": {
     "duration": 0.101939,
     "end_time": "2024-08-03T22:18:14.359697",
     "exception": false,
     "start_time": "2024-08-03T22:18:14.257758",
     "status": "completed"
    },
    "tags": []
   },
   "outputs": [],
   "source": [
    "# One-hot encode the data (to shorten the code, we use pandas)\n",
    "X_train_XG = pd.get_dummies(X_train)\n",
    "X_valid_XG = pd.get_dummies(X_valid)\n",
    "X_test_XG = pd.get_dummies(X_test)\n",
    "X_train_XG, X_valid_XG = X_train_XG.align(X_valid_XG, join='left', axis=1)\n",
    "X_train_XG, X_test_XG = X_train_XG.align(X_test_XG, join='left', axis=1)"
   ]
  },
  {
   "cell_type": "markdown",
   "id": "f097570b",
   "metadata": {
    "papermill": {
     "duration": 0.006858,
     "end_time": "2024-08-03T22:18:14.374339",
     "exception": false,
     "start_time": "2024-08-03T22:18:14.367481",
     "status": "completed"
    },
    "tags": []
   },
   "source": [
    "WITHOUT PARAMETER TUNING"
   ]
  },
  {
   "cell_type": "code",
   "execution_count": 14,
   "id": "f196edb3",
   "metadata": {
    "execution": {
     "iopub.execute_input": "2024-08-03T22:18:14.391048Z",
     "iopub.status.busy": "2024-08-03T22:18:14.390652Z",
     "iopub.status.idle": "2024-08-03T22:18:15.468314Z",
     "shell.execute_reply": "2024-08-03T22:18:15.467478Z"
    },
    "papermill": {
     "duration": 1.089126,
     "end_time": "2024-08-03T22:18:15.470872",
     "exception": false,
     "start_time": "2024-08-03T22:18:14.381746",
     "status": "completed"
    },
    "tags": []
   },
   "outputs": [
    {
     "name": "stdout",
     "output_type": "stream",
     "text": [
      "Mean Absolute Error: 8749547.450715035\n"
     ]
    }
   ],
   "source": [
    "# Define the model\n",
    "my_model_1 = XGBRegressor(random_state=0)\n",
    "\n",
    "# Fit the model\n",
    "my_model_1.fit(X_train_XG,y_train)\n",
    "\n",
    "# Get predictions\n",
    "predictions_1 = my_model_1.predict(X_valid_XG)\n",
    "\n",
    "# Calculate MAE\n",
    "mae_1 = mean_absolute_error(y_valid, predictions_1)\n",
    "\n",
    "# Uncomment to print MAE\n",
    "print(\"Mean Absolute Error:\" , mae_1)"
   ]
  },
  {
   "cell_type": "markdown",
   "id": "e6fe7d89",
   "metadata": {
    "papermill": {
     "duration": 0.006845,
     "end_time": "2024-08-03T22:18:15.485218",
     "exception": false,
     "start_time": "2024-08-03T22:18:15.478373",
     "status": "completed"
    },
    "tags": []
   },
   "source": [
    "WITH PARAMETER TUNING"
   ]
  },
  {
   "cell_type": "code",
   "execution_count": 15,
   "id": "75091f16",
   "metadata": {
    "execution": {
     "iopub.execute_input": "2024-08-03T22:18:15.501052Z",
     "iopub.status.busy": "2024-08-03T22:18:15.500636Z",
     "iopub.status.idle": "2024-08-03T22:18:20.274659Z",
     "shell.execute_reply": "2024-08-03T22:18:20.272970Z"
    },
    "papermill": {
     "duration": 4.785147,
     "end_time": "2024-08-03T22:18:20.277430",
     "exception": false,
     "start_time": "2024-08-03T22:18:15.492283",
     "status": "completed"
    },
    "tags": []
   },
   "outputs": [
    {
     "name": "stdout",
     "output_type": "stream",
     "text": [
      "Mean Absolute Error: 8818791.632414185\n"
     ]
    }
   ],
   "source": [
    "# Define the model\n",
    "my_model_2 = XGBRegressor(n_estimators=500, n_jobs=4, early_stopping_rounds=5, learning_rate=0.05)\n",
    "\n",
    "# Fit the model\n",
    "my_model_2.fit(X_train_XG, y_train, eval_set=[(X_valid_XG, y_valid)], verbose=False)\n",
    "\n",
    "# Get predictions\n",
    "predictions_2 = my_model_2.predict(X_valid_XG)\n",
    "\n",
    "# Calculate MAE\n",
    "mae_2 = mean_absolute_error(y_valid, predictions_2)\n",
    "\n",
    "# Uncomment to print MAE\n",
    "print(\"Mean Absolute Error:\" , mae_2)"
   ]
  },
  {
   "cell_type": "markdown",
   "id": "55b6df97",
   "metadata": {
    "papermill": {
     "duration": 0.00699,
     "end_time": "2024-08-03T22:18:20.291972",
     "exception": false,
     "start_time": "2024-08-03T22:18:20.284982",
     "status": "completed"
    },
    "tags": []
   },
   "source": [
    "FINAL OUTPUT"
   ]
  },
  {
   "cell_type": "code",
   "execution_count": null,
   "id": "107e9f09",
   "metadata": {
    "papermill": {
     "duration": 0.006992,
     "end_time": "2024-08-03T22:18:20.306181",
     "exception": false,
     "start_time": "2024-08-03T22:18:20.299189",
     "status": "completed"
    },
    "tags": []
   },
   "outputs": [],
   "source": []
  }
 ],
 "metadata": {
  "kaggle": {
   "accelerator": "none",
   "dataSources": [
    {
     "datasetId": 5491146,
     "sourceId": 9098764,
     "sourceType": "datasetVersion"
    }
   ],
   "dockerImageVersionId": 30746,
   "isGpuEnabled": false,
   "isInternetEnabled": true,
   "language": "python",
   "sourceType": "notebook"
  },
  "kernelspec": {
   "display_name": "Python 3",
   "language": "python",
   "name": "python3"
  },
  "language_info": {
   "codemirror_mode": {
    "name": "ipython",
    "version": 3
   },
   "file_extension": ".py",
   "mimetype": "text/x-python",
   "name": "python",
   "nbconvert_exporter": "python",
   "pygments_lexer": "ipython3",
   "version": "3.10.13"
  },
  "papermill": {
   "default_parameters": {},
   "duration": 167.475473,
   "end_time": "2024-08-03T22:18:21.036163",
   "environment_variables": {},
   "exception": null,
   "input_path": "__notebook__.ipynb",
   "output_path": "__notebook__.ipynb",
   "parameters": {},
   "start_time": "2024-08-03T22:15:33.560690",
   "version": "2.5.0"
  }
 },
 "nbformat": 4,
 "nbformat_minor": 5
}
